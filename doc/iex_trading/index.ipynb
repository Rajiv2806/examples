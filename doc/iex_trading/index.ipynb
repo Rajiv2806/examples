{
 "cells": [
  {
   "cell_type": "markdown",
   "metadata": {},
   "source": [
    "## IEX Index\n",
    "\n",
    "This topic example is composed to two notebooks and a deployable\n",
    "dashboard that explore an open dataset of stock trades. The visualized\n",
    "trading data is made available from the [IEX](iextrading.com) stock\n",
    "exchange and is available\n",
    "[here](https://iextrading.com/trading/market-data). The two notebooks in\n",
    "this topic example are:\n",
    "\n",
    "1. [IEX Trading](./IEX_trading.ipynb): This notebook explains how\n",
    "datashader can be used to both visualizes the entire set of trades on a\n",
    "particular day while retaining the ability to inspect individual trades.\n",
    "\n",
    "2. [IEX Stocks](./IEX_stocks.ipynb): This notebook builds on the\n",
    "approach employed in the first notebook to visualize trading\n",
    "volume. This visualization is then built into a deployable dashboard\n",
    "using [panel](panel.pyviz.org).\n",
    "\n",
    "Additionally, there is a [supplementary\n",
    "notebook](https://github.com/pyviz-topics/examples/blob/master/iex_trading/IEX_to_CSV.ipynb)\n",
    "that is used to convert the pcap files supplied by the IEX exchange into\n",
    "the CSV files consumed by these notebooks that is included for\n",
    "completeness."
   ]
  }
 ],
 "metadata": {
  "language_info": {
   "codemirror_mode": {
    "name": "ipython",
    "version": 3
   },
   "file_extension": ".py",
   "mimetype": "text/x-python",
   "name": "python",
   "nbconvert_exporter": "python",
   "pygments_lexer": "ipython3",
   "version": "3.6.10"
  }
 },
 "nbformat": 4,
 "nbformat_minor": 2
}
